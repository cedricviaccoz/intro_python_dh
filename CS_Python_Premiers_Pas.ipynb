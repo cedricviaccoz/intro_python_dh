{
 "cells": [
  {
   "cell_type": "markdown",
   "metadata": {
    "id": "gWlpSKq0emn2"
   },
   "source": [
    "<center> PYTHON : PREMIERS PAS</center>\n",
    "\n",
    "\n"
   ]
  },
  {
   "cell_type": "markdown",
   "metadata": {
    "id": "gscDf4mjYmyO"
   },
   "source": [
    "<center>Béatrice Joyeux-Prunel, \n",
    "Chaire des Humanités numériques. \n",
    "Septembre 2022</center>\n",
    "\n",
    "Nota : cette introduction à Python vise à vous faire découvrir le langage de programmation Python, et comment il peut être utile pour les sciences humaines. \n",
    "Des exercices ultérieurs vous permettront de mieux comprendre comment fonctionne ce langage, et d'en apprendre les rudiments. \n",
    "\n",
    "Ne cherchez donc pas à tout comprendre tout de suite !"
   ]
  },
  {
   "cell_type": "markdown",
   "metadata": {
    "id": "vc9oc6wnnRd8"
   },
   "source": [
    "# Environnement, librairies, fichiers de travail "
   ]
  },
  {
   "cell_type": "markdown",
   "metadata": {
    "id": "SEzbXyQYDe0M"
   },
   "source": [
    "Bienvenue dans ce notebook. "
   ]
  },
  {
   "cell_type": "markdown",
   "metadata": {
    "id": "0Y8FYZLrEIiT"
   },
   "source": [
    "## Qu'est-ce qu'un notebook?\n",
    "\n",
    "\n",
    "### Un **notebook** est un fichier de programmation, composé d'éléments appelés cellules. \n",
    "\n",
    "**Pour exécuter les effets (ou la programmation) d'une cellule**, vous pouvez appuyer sur Run dans la barre de menu ou sur la touche \"Play\" à gauche de la cellule. \n",
    "\n",
    "Vous pouvez aussi choisir les touches `ctr` + `enter` avec windows ou `cmd + enter` avec Mac et Linux. Les commandes `alt + enter` (Windows) ou `option + enter`(Mac et Linux) permettent d'exécuter la cellule et créer une cellule vide.\n",
    "\n",
    "**Une cellulle peut avoir 3 états** :\n",
    "\n",
    "    * non exécutée : il n'y a aucune information à gauche de la cellule\n",
    "    * en cours d'exécution : il y a ce symbole à gauche de la cellule : [*]\n",
    "    * exécutée : il y a ce symbole à gauche de la cellule contenant le numéro de l'ordre d'exécution : [1]\n",
    "\n",
    "**Les cellules peuvent être de plusieurs types. Ici on utilise des cellules avec du python et d'autre avec du texte (Markdown) mis en forme**. Par défaut, si vous créez une cellule (par exemple en cliquant sur `alt enter`, elle sera en python. Pour la convertir en texte, sélectionnez Markdown dans le menu déroulant en haut ou sélectionner la cellule en appuyant à gauche et appuyez sur la touche `m`. Ou encore : `Escape M` (transformera la cellule en format Mardown)."
   ]
  },
  {
   "cell_type": "code",
   "execution_count": null,
   "metadata": {
    "id": "ndRIezQYC5Az"
   },
   "outputs": [],
   "source": [
    "#ceci est une cellule de code. \n",
    "#Lorsque un dièze précède une ligne de texte dans une cellule de code, Python n'interprète pas \n",
    "#la ligne concernée. Le texte est d'ailleurs visible sous une couleur différente.\n",
    "#Vous remarquerez qu'il faut aller à la ligne pour aller à la ligne.\n",
    "#mais remettre un dièze afin que le texte ne soit pas pris pour du code. \n",
    "Ce texte n'étant pas du code, mais écrit à un endroit pour du code, \n",
    "si vous cliquez sur \"play\" (au sommet du notebook) ou \"ctrl + enter\", vous obtiendrez une erreur. \n",
    "Essayez !"
   ]
  },
  {
   "cell_type": "markdown",
   "metadata": {
    "id": "104aZo3GDWcd"
   },
   "source": [
    "Ceci est un élément de texte. Python n'interprète pas non plus ces blocs.\n",
    "\n",
    "Si vous exécutez cette cellule, elle s'affichera comme du texte.  \n"
   ]
  },
  {
   "cell_type": "markdown",
   "metadata": {},
   "source": [
    "**Si votre notebook plante**, sélectionner **Kernel / Noyau** puis **Restart & Run All / Redémarrer le noyau et exécuter toutes les cellules**.\n"
   ]
  },
  {
   "cell_type": "markdown",
   "metadata": {
    "id": "P_FHN076d-bb"
   },
   "source": [
    "## Librairies \n",
    "\n",
    "**Python utilise des libraires**: des morceaux de code associés à des commandes, préparées par d'autres, qui nous permettent de faire effectuer à Python des tâches très rapidement, sans avoir à encoder tout ce qu'il faudrait pour obtenir plein de choses. \n",
    "\n",
    "Chaque librairie est prévue pour un certain type de travaux. \n",
    "\n",
    "**Quelques librairies très utilisées en sciences humaines :**\n",
    "- `Pandas` permet de gérer des tableaux de données; \n",
    "- `numpy` permet de faire des statistiques; \n",
    "- `matplotlib` va nous servir pour faire des visualisations (plotting) etc. \n",
    "\n",
    "\n",
    "**Importer les librairies Python nécessaires**"
   ]
  },
  {
   "cell_type": "code",
   "execution_count": null,
   "metadata": {
    "id": "0irtIPD6YMLx"
   },
   "outputs": [],
   "source": [
    "#il suffit d'importer vos librairies au début; toutes les cellules exécutées après celle-ci pourront\n",
    "# utiliser les librairies chargées dans cette cellule. \n",
    "#Il est possible également d'importer d'autres librairies en cours de route \n",
    "#(ce que nous ferons de temps en temps, n'ayant pas tout prévu dès le départ)\n",
    "#Certains environnement vous donnent par défaut accès à certaines librairies \n",
    "#(c'est le cas de Colab et JupyterLab)\n",
    "import pandas as pd\n",
    "import numpy as np\n",
    "\n",
    "import matplotlib.pyplot as plt\n",
    "from collections import Counter\n",
    "import matplotlib.ticker as ticker"
   ]
  },
  {
   "cell_type": "markdown",
   "metadata": {
    "id": "il5T0D80iGje"
   },
   "source": [
    "## Dossiers et fichiers de travail\n",
    "\n",
    "**Un notebook travaille dans un répertoire : par défaut, celui où il se trouve. \n",
    "\n",
    "Explicitons : si vous demandez à Python d'enregistrer un document nouveau sans lui dire où mettre ce document, il le placera dans le \"répertoire courant\", c'est à dire dans le répertoire où est placé le notebook. \n",
    " \n",
    "Mais si vous ne savez pas où vous avez mis votre notebook???\n",
    " \n",
    "### Répondre à la question \"où suis-je ??\"\n",
    "\n",
    "La librairie `os` permet de savoir où nous sommes. "
   ]
  },
  {
   "cell_type": "markdown",
   "metadata": {
    "id": "g9tY5wCSFxQk"
   },
   "source": [
    "(tiens,... j'importe cette librairie maintenant. j'aurais pu mettre ce morceau plus haut; tant pis)"
   ]
  },
  {
   "cell_type": "code",
   "execution_count": null,
   "metadata": {
    "id": "dJprNvS3dw2k"
   },
   "outputs": [],
   "source": [
    "import os\n",
    "os.getcwd() #comme get current working directory\n",
    "#faites run sur cette cellule. Le résultat s'affichera"
   ]
  },
  {
   "cell_type": "code",
   "execution_count": null,
   "metadata": {},
   "outputs": [],
   "source": [
    "print(\"Maintenant on va rédiger un peu les choses\")"
   ]
  },
  {
   "cell_type": "code",
   "execution_count": null,
   "metadata": {},
   "outputs": [],
   "source": [
    "print(\"Le dossier dans lequel est situé votre notebook, et dans lequel python va aller chercher les fichiers par défaut, a le chemin suivant : \"+os.getcwd())"
   ]
  },
  {
   "cell_type": "markdown",
   "metadata": {},
   "source": [
    "... Vous commencez à comprendre?"
   ]
  },
  {
   "cell_type": "markdown",
   "metadata": {},
   "source": [
    "`print` est une **commande**."
   ]
  },
  {
   "cell_type": "markdown",
   "metadata": {
    "id": "cSASDWnAJDD2"
   },
   "source": [
    "**Dans le menu gauche de votre page jupyterlab, une icône \"dossiers\" vous permet d'accéder à la navigation du contenu de votre espace disque jupyterhub**.\n"
   ]
  },
  {
   "cell_type": "markdown",
   "metadata": {
    "id": "3OAixM1mH528"
   },
   "source": [
    "## Chargement des fichiers de travail\n",
    "\n",
    "Nous allons indiquer à notre notebook que nous voulons travailler avec un fichier spécifique de catalogue d'exposition. \n",
    "\n",
    "Nous allons observer ce fichier de données, en observer le contenu, apprendre à faire quelques tris et en faire une petite visualisation statistique."
   ]
  },
  {
   "cell_type": "markdown",
   "metadata": {},
   "source": [
    "### Définition du chemin de travail"
   ]
  },
  {
   "cell_type": "markdown",
   "metadata": {},
   "source": [
    "Le \"chemin de travail\" (`path` en anglais) est une adresse qui permet d'accéder à un fichier. \n",
    "Nota : stricto sensu, une url est aussi un chemin de travail ou l'adresse d'un fichier. m"
   ]
  },
  {
   "cell_type": "markdown",
   "metadata": {},
   "source": [
    "Définissons une **variable**, dénommée `path`, qui désignera le chemin de notre fichier. \n",
    "Les variables permettent de donner des petits noms à des objets qui sinon risqueraient d'être mal référencés. \n",
    "Nous sommes flemmards - d'où l'utilité des variables. \n",
    "(on définit une variable par cette formule toute bête : \n",
    "* `nom_de_la_variable = \"directory/file.csv\"` s'il s'agit de désigner le chemin vers un fichier\n",
    "* `nom_de_la_variable = 12` si la variable est un nombre\n",
    "* `nom_de_la_variable = variable` si je veux renommer ma variable\n",
    "* `variable = \"toto\"`si je veux que la variable soit un mot. \n",
    "Etc.."
   ]
  },
  {
   "cell_type": "code",
   "execution_count": null,
   "metadata": {
    "id": "y8BT0egCjO_d"
   },
   "outputs": [],
   "source": [
    "path = \"Faux_exhibCat_1909_Paris_Independants.csv\" \n",
    "#ici, mon fichier est dans le même dossier que mon notebook"
   ]
  },
  {
   "cell_type": "markdown",
   "metadata": {},
   "source": [
    "### Définition du tableau que nous analyserons "
   ]
  },
  {
   "cell_type": "markdown",
   "metadata": {},
   "source": [
    "**Petite manipulation préalable : découverte de CSV.**\n",
    "\n",
    "Dans votre explorateur de fichier, ouvrez le fichier `Faux_exhibCat_1909_Paris_Independants.csv`, et observez-le. \n",
    "Il s'ouvre en général, par défaut, avec un logiciel de tableurs comme Excel. \n",
    "Refermez-le et ouvrez-le avec un éditeur de texte. \n",
    "Vous verrez comment ce fichier est structuré, et pourquoi il est si léger. "
   ]
  },
  {
   "cell_type": "markdown",
   "metadata": {},
   "source": [
    "**Il ne suffit pas d'avoir défini un fichier. Il faut aussi l'ouvrir, et indiquer à Python ce qu'est ce fichier.**\n",
    "\n",
    "Python a toujours besoin de savoir avec quels objets il travaille. \n",
    "Nous définissons donc un nouvel objet, qu'on appelle le plus souvent `df` comme **dataframe** (ou matrice), mais qu'on pourrait aussi bien appeler tagada. Dataframe veut dire, en gros, tableau de données. \n",
    "\n",
    "Nous allons donc commander à Python d'ouvrir le fichier de format csv qui est placé à l'adresse précédemment appelée `path`, et de le **parser** (répartir les données en colonnes) en fonction de chaque point-virgule (séparateur des colonnes)."
   ]
  },
  {
   "cell_type": "code",
   "execution_count": null,
   "metadata": {},
   "outputs": [],
   "source": [
    "df = pd.read_csv(path, sep=\",\")"
   ]
  },
  {
   "cell_type": "markdown",
   "metadata": {},
   "source": [
    "Maintenant que Python a compris ce qu'était df, je lui demande de l'afficher. "
   ]
  },
  {
   "cell_type": "code",
   "execution_count": null,
   "metadata": {},
   "outputs": [],
   "source": [
    "df"
   ]
  },
  {
   "cell_type": "markdown",
   "metadata": {},
   "source": [
    "**Testons quelques trucs en passant**"
   ]
  },
  {
   "cell_type": "code",
   "execution_count": null,
   "metadata": {},
   "outputs": [],
   "source": [
    "print (\"df\")"
   ]
  },
  {
   "cell_type": "code",
   "execution_count": null,
   "metadata": {},
   "outputs": [],
   "source": [
    "print (df)"
   ]
  },
  {
   "cell_type": "markdown",
   "metadata": {
    "id": "YhLRyf1YLJ2f"
   },
   "source": [
    "# Regarder les données ; premiers tris"
   ]
  },
  {
   "cell_type": "markdown",
   "metadata": {},
   "source": [
    "Python permet d'observer facilement les données contenues dans un tableau (un dataframe).\n",
    "Il suffit de connaître les **commandes** qui permettent de le faire. \n",
    "Nota : vous vous familiariserez vite avec les commandes les plus utilisées. \n",
    "Sachez aussi et surtout qu'on trouve tout ce qu'on veut sur internet en cherchant simplement \"python afficher un fichier\" ou \"python open directory\". Certains sites sont plus utiles que d'autres. Vous deviendrez peut-être des habitués de **stackoverflow**.\n"
   ]
  },
  {
   "cell_type": "markdown",
   "metadata": {},
   "source": [
    "## Lire les donnnées  `.head()`, `.info()`, `.describe()`."
   ]
  },
  {
   "cell_type": "markdown",
   "metadata": {
    "id": "5YRibRTHrOUu"
   },
   "source": [
    "* 1ère étape, **lire les données** sans devoir afficher tout le tableau. \n",
    "\n",
    "Le `head`, c'est à dire \"son en-tête\", donne par défaut les 5 premières lignes du tableau.\n",
    "\n",
    "Notez que **Python, comme beaucoup de langages de programmation, indexe les lignes en commençant par 0**. Si je veux donc lui demander de lire les 3 premières lignes en incluant la ligne de titre des colonnes, il faudra lui indiquer l'index 2. "
   ]
  },
  {
   "cell_type": "code",
   "execution_count": null,
   "metadata": {
    "colab": {
     "base_uri": "https://localhost:8080/",
     "height": 206
    },
    "id": "fyUxlFG9rRw3",
    "outputId": "81bbde4d-74c6-4d1a-d6e8-4709a0413384",
    "scrolled": true
   },
   "outputs": [],
   "source": [
    "df.head(3) "
   ]
  },
  {
   "cell_type": "markdown",
   "metadata": {},
   "source": [
    "* Informations sur le fichier : **la fonction `.info`**"
   ]
  },
  {
   "cell_type": "code",
   "execution_count": null,
   "metadata": {},
   "outputs": [],
   "source": [
    "df.head()#affiche par défaut les 5 premières lignes. "
   ]
  },
  {
   "cell_type": "markdown",
   "metadata": {},
   "source": [
    "* Afficher les informations d'un tableau (quelles colonnes, combien d'infos dans chacune etc.)"
   ]
  },
  {
   "cell_type": "code",
   "execution_count": null,
   "metadata": {},
   "outputs": [],
   "source": [
    "df.info()"
   ]
  },
  {
   "cell_type": "markdown",
   "metadata": {
    "id": "PtAvQuhrwHWu"
   },
   "source": [
    "* La fonction **`df.describe()`** renvoie un dataframe donnant des **statistiques sommaires** sur les valeurs (nombres de valeurs, moyenne, écart-type, ...), mais uniquement sur les colonnes numériques. \n",
    "Ici vous serez déçus..."
   ]
  },
  {
   "cell_type": "code",
   "execution_count": null,
   "metadata": {},
   "outputs": [],
   "source": [
    "df.describe()"
   ]
  },
  {
   "cell_type": "markdown",
   "metadata": {
    "colab": {
     "base_uri": "https://localhost:8080/",
     "height": 394
    },
    "id": "ygpKZiBhwmo6",
    "outputId": "54d155e9-37ef-4bed-acd0-252a70711191"
   },
   "source": [
    "* `df.describe(include = 'all')` pour **prendre en compte toutes les données, pas juste les colonnes vides ou contenant des valeurs numériques**"
   ]
  },
  {
   "cell_type": "code",
   "execution_count": null,
   "metadata": {},
   "outputs": [],
   "source": [
    "df.describe(include = 'all')"
   ]
  },
  {
   "cell_type": "markdown",
   "metadata": {
    "id": "G8cXaVFk7_gn"
   },
   "source": [
    "**`df.describe(include = 'all').to_csv(sys.stdout, sep = ' ')`** permet de générer un fichier csv contenant les statistiques descriptives de toutes les colonnes (numériques ou non). "
   ]
  },
  {
   "cell_type": "markdown",
   "metadata": {},
   "source": [
    "## Sélectionner / afficher des colonnes spécifiques. \n",
    "\n",
    "**`[les colonnes]` sont indiquées entre crochets**."
   ]
  },
  {
   "cell_type": "code",
   "execution_count": null,
   "metadata": {},
   "outputs": [],
   "source": [
    "df[df.columns[[1]]]#affiche la première colonne après l'index (affiche en fait les 2 premières colonnes)"
   ]
  },
  {
   "cell_type": "code",
   "execution_count": null,
   "metadata": {},
   "outputs": [],
   "source": [
    "df[df.columns[[0,2]]] \n",
    "#affiche les colonnes de 0 à 2\n",
    "#remplacez le numéro des colonnes 0 et 2 par celui qui correspond à votre tableau, afin d'afficher\n",
    "#en 3 colonnes : le nom, le prénom, le sexe de l'artiste. "
   ]
  },
  {
   "cell_type": "code",
   "execution_count": null,
   "metadata": {},
   "outputs": [],
   "source": [
    "# Afficher les colonnes 30 à 36 \n",
    "#(permettent d'accéder au n°, au titre et au sous-titre des oeuvres les oeuvres)\n",
    "df[df.columns[[30,31, 32, 33, 34, 35, 36]]]\n"
   ]
  },
  {
   "cell_type": "markdown",
   "metadata": {},
   "source": [
    "### Nota : `Dtype`,`float64`\n",
    "\n",
    "- **les crochets** : ils doivent être au nombre complet, et toujours fermés. \n",
    "- la colonne  `Number` : Python a repéré qu'il s'agit de nbs  et les affiche comme des décimaux (1701.0, avec un chiffre après la virgule ). On aurait pu l'anticiper en voyant dans df.info() que la colonne 36 a un **`Dtype`** (type de données) **`float64`** (nombre à virgule 'flottante' d'où le \"Float\", qui prend 64 bits de mémoire). "
   ]
  },
  {
   "cell_type": "markdown",
   "metadata": {},
   "source": [
    "### Observer un jeu au hasard des données : `.random()`"
   ]
  },
  {
   "cell_type": "code",
   "execution_count": null,
   "metadata": {},
   "outputs": [],
   "source": [
    "df.sample(4)"
   ]
  },
  {
   "cell_type": "markdown",
   "metadata": {},
   "source": [
    "## Supprimer les colonnes inutiles : `del` et `df.drop`"
   ]
  },
  {
   "cell_type": "markdown",
   "metadata": {},
   "source": [
    "`del df['col_name']` supprime la colonne du df qui a pour nom \"col_name\"."
   ]
  },
  {
   "cell_type": "code",
   "execution_count": null,
   "metadata": {},
   "outputs": [],
   "source": [
    "del df ['Column18']#supprime la colonne intitulée \"Column18\""
   ]
  },
  {
   "cell_type": "code",
   "execution_count": null,
   "metadata": {},
   "outputs": [],
   "source": [
    "#je veux m'assurer que c'est bien supprimé? on refait un df.info par ex.\n",
    "df.info()"
   ]
  },
  {
   "cell_type": "code",
   "execution_count": null,
   "metadata": {},
   "outputs": [],
   "source": [
    "# Je peux aussi enlever une colonne en indiquant son numéro d'indexation. Par ex. la 35\n",
    "df.drop(df.columns[[35]], axis=1) "
   ]
  },
  {
   "cell_type": "code",
   "execution_count": null,
   "metadata": {},
   "outputs": [],
   "source": [
    "#Mais si je raffiche df, il n'aura pas changé. Essayez. "
   ]
  },
  {
   "cell_type": "code",
   "execution_count": null,
   "metadata": {},
   "outputs": [],
   "source": [
    "#Je renomme  df pour qu'il soit égal au df moins la colonne à ne pas garder\n",
    "df = df.drop(df.columns[[35]], axis=1) "
   ]
  },
  {
   "cell_type": "markdown",
   "metadata": {},
   "source": [
    "**Nota : vous avez compris que Python ne touche pas au fichier *input* (ce qu'on lui injecte), et qu'il ne touche pas davantage au tableau qui en est issu au départ, sauf si vous lui dites que le dataframe est lui-même amputé de telle ou telle colonne.**\n",
    "\n",
    "Formidable, non ?\n",
    "\n",
    "Si on se plante, même en ayant modifié le df, on peut revenir à la case zéro qui définit le df à partir du csv d'entrée. \n",
    "\n",
    "Plus pratique que l'utilisation d'un logiciel....\n",
    "\n",
    "Car on peut reprendre la démarche en cours de route (on \"Restart kernel and clear output\", et on le fait travailler à nouveau pour toutes les cellules pertinentes; puis on améliore la suite). \n"
   ]
  },
  {
   "cell_type": "code",
   "execution_count": null,
   "metadata": {},
   "outputs": [],
   "source": [
    "df.info()# me permet de voir que désormais je n'ai plus les colonnes enlevées."
   ]
  },
  {
   "cell_type": "markdown",
   "metadata": {},
   "source": [
    "\n",
    "Une note : Ce tableau n'est pas franchement propre. Il contient beaucoup de colonnes inutiles. \n",
    "Comment supprimer d'un coup plusieurs colonnes  successives? \n",
    "On remarque qu'elles sont indexées par numéro - il nous faut viser les colonnes 19 à 34. \n",
    "\n",
    "Comme je suis flemmarde, et n'ai pas envie de refaire près de 20 fois la manipulation de suppression d'une colonne, je vais écrire une commande qui fait faire la suppression à Python autant de fois que nécessaire, sur les colonnes qui ne me conviennent pas. Pour cela, nous allons utiliser ce qu'on appelle une boucle (excellente occasion pédagogique pour vous faire découvrir la notion de boucles de programmation). "
   ]
  },
  {
   "cell_type": "markdown",
   "metadata": {},
   "source": [
    "# La notion de `boucle`"
   ]
  },
  {
   "cell_type": "code",
   "execution_count": null,
   "metadata": {},
   "outputs": [],
   "source": [
    "#lisez puis exécutez les cellules qui suivent. \n",
    "for i in range(3): #les trois premiers numéros dans la liste des entiers.\n",
    "    print(i)"
   ]
  },
  {
   "cell_type": "code",
   "execution_count": null,
   "metadata": {},
   "outputs": [],
   "source": [
    "#notez pour ci-dessous que le résultat commnence avec Zero, jusqu'à 2 (pas jusqu'à 3 : on ne prend pas le dernier)\n",
    "#Même chose pour la commande suivante, de 3 à 9: elle ne va pas jusqu'au 9, important de le savoir\n",
    "\n",
    "for i in range (3,9):\n",
    "    print (i)"
   ]
  },
  {
   "cell_type": "code",
   "execution_count": null,
   "metadata": {},
   "outputs": [],
   "source": [
    "#Maintenant, faisons sauter les marches à Python.Toutes les 2 marches s'il vous plaît. \n",
    "#le pas de progression est indiqué dans le 3e chiffre de la fonction. \n",
    "\n",
    "for i in range (0, 20, 2):\n",
    "    print (i)"
   ]
  },
  {
   "cell_type": "code",
   "execution_count": null,
   "metadata": {
    "code_folding": []
   },
   "outputs": [],
   "source": [
    "#Comptons par ordre décroissant, de -1 en -1 : \n",
    "\n",
    "for i in range (34, 19, -1):\n",
    "    print (i)"
   ]
  },
  {
   "cell_type": "code",
   "execution_count": null,
   "metadata": {
    "scrolled": true
   },
   "outputs": [],
   "source": [
    "#Notez que Python est respectueux. On lui a dit de commencer à 34 et s'arrêter à 19, donc il ne touche pas 19. \n",
    "#Donc pour qu'il touche 19, il faut lui dire d'aller jusqu'à 18.\n",
    "#Repérons maintenant les colonnes qu'il s'agit d'effacer : \n",
    "df.info ()"
   ]
  },
  {
   "cell_type": "code",
   "execution_count": null,
   "metadata": {},
   "outputs": [],
   "source": [
    "#Pour mon tableau, il faut enlever les colonnes 34 à 19.\n",
    "#Je ferai donc une itération sur les \"ranges\" 34 (le premier) \n",
    "#jusqu'à 18 (le dernier, qui n'est pas pris en compte)\n",
    "\n",
    "for i in range (34, 18, -1): \n",
    "    df = df.drop(df.columns[[i]], axis=1)\n",
    "    "
   ]
  },
  {
   "cell_type": "code",
   "execution_count": null,
   "metadata": {},
   "outputs": [],
   "source": [
    "df.info()# me permet de voir que j'ai bien supprimé les colonnes en trop"
   ]
  },
  {
   "cell_type": "markdown",
   "metadata": {},
   "source": [
    "# Dénombrer : `.value_counts()` (valeurs uniques)"
   ]
  },
  {
   "cell_type": "markdown",
   "metadata": {
    "id": "TgienZjnrUGz"
   },
   "source": [
    "**Quels sont les pays de naissance les plus représentés *en fonction des oeuvres exposées*? la fonction `.value_counts()`**\n"
   ]
  },
  {
   "cell_type": "code",
   "execution_count": null,
   "metadata": {},
   "outputs": [],
   "source": [
    "df['Country of birth'].value_counts()#comptage des valeurs uniques"
   ]
  },
  {
   "cell_type": "code",
   "execution_count": null,
   "metadata": {},
   "outputs": [],
   "source": [
    "#### ATTENTION : on compte ici des oeuvres.... ####\n",
    "#### Chaque pays est représenté autant de fois qu'une oeuvre est exposée par un artiste de ce pays "
   ]
  },
  {
   "cell_type": "markdown",
   "metadata": {},
   "source": [
    "Le résultat est **une \"série\"** (la fonction ```type(objet)```permet de savoir quelle est la nature de l'objet manipulé). "
   ]
  },
  {
   "cell_type": "code",
   "execution_count": null,
   "metadata": {},
   "outputs": [],
   "source": [
    "comptage = df['Country of birth'].value_counts()\n",
    "type(comptage)"
   ]
  },
  {
   "cell_type": "code",
   "execution_count": null,
   "metadata": {},
   "outputs": [],
   "source": [
    "#pour réutiliser la fonction type : exécutez la commande suivante : \n",
    "type(df)#affiche moi la nature de l'objet df"
   ]
  },
  {
   "cell_type": "markdown",
   "metadata": {},
   "source": [
    "Il vous répond que c'est un dataframe. "
   ]
  },
  {
   "cell_type": "markdown",
   "metadata": {},
   "source": [
    "# Nettoyer les données avec Python"
   ]
  },
  {
   "cell_type": "markdown",
   "metadata": {},
   "source": [
    "Certaines données sont sales. \n",
    "D'expérience vous verrez même que **la plupart des données sont sales**, surtout si l'on veut en faire une analyse statistique.\n",
    "Comment les nettoyer? Ou plutôt les harmoniser? \n",
    "\n",
    "Deux solutions : \n",
    "- le faire à la main et y passer ses nuits\n",
    "- le faire avec Python de manière un peu systématique"
   ]
  },
  {
   "cell_type": "code",
   "execution_count": null,
   "metadata": {
    "id": "PvlIlD2WQPqn"
   },
   "outputs": [],
   "source": [
    "\n",
    "#old versus new. \n",
    "#On aurait pu les nommer autrement, mais en général tout le monde fait ainsi. \n",
    "\n",
    "old_values = [\n",
    "    \"United States of America\", \"Etats-Unis\",\"United States of America\", \n",
    "    \"Suisse\", \"Espagne\", \"Russie\", \"Roumanie\", \"Pologne\", \"Allemagne\",\n",
    "    \"United Kingdom\", \"Angleterre\", \"Australie\", \"Estonie\", \"Italie\", \"Norvège\"\n",
    "]\n",
    "\n",
    "new_values = [\n",
    "    \"USA\", \"USA\", \"USA\", \"Switzerland\", \"Spain\", \"Russia\", \"Romania\", \n",
    "    \"Poland\",\"Germany\",\n",
    "    \"UK\", \"UK\", \"Australia\", \"Estonia\", \"Italy\", \"Norway\"\n",
    "]\n",
    "\n",
    " \n",
    "replacement_dict = {k:v for k,v in zip(old_values, new_values)}\n",
    "#Ce script crée un \"dictionnaire\", dont les clés sont les anciennes valeurs, \n",
    "#et les valeurs, les nouvelles nominations des pays.\n",
    "\n",
    "#lire le dictionnaire pour comprendre quel dictionnaire de quel df (dataframme) doit être remplacé par quel autre \n",
    "df = df.replace(replacement_dict)\n",
    "#j'ai donc un dataframe qui normalement doit avoir des noms de pays écrits harmonieusement."
   ]
  },
  {
   "cell_type": "code",
   "execution_count": null,
   "metadata": {},
   "outputs": [],
   "source": [
    "#### On en profite, le cas échéant, pour reporter ces modifications dans le fichier original, \n",
    "#### soit à la main, soit en enregistrant le df au format .csv (et en lui donnant un nouveau nom) \n",
    "#### voir point plus bas."
   ]
  },
  {
   "cell_type": "markdown",
   "metadata": {},
   "source": [
    "## Et je refais mes comptages"
   ]
  },
  {
   "cell_type": "code",
   "execution_count": null,
   "metadata": {},
   "outputs": [],
   "source": [
    "df['Country of birth'].value_counts()"
   ]
  },
  {
   "cell_type": "markdown",
   "metadata": {
    "id": "mrNXDb-sb8nM"
   },
   "source": [
    "## Fin. Enregistrer le df au format csv pour le retravailler éventuellement \n",
    "\n",
    "Rien n'empêche ensuite de le réinsérer dans le notebook - tout se fera en quelques secondes !"
   ]
  },
  {
   "cell_type": "code",
   "execution_count": null,
   "metadata": {
    "id": "-8jJnGrmb44J"
   },
   "outputs": [],
   "source": [
    "df.to_csv('Indep1909_2.csv', index = False) #en local, dans le bon dossier. \n",
    "\n",
    "#df.to_csv('Indep1909_2.csv', index = False) #dans Google Drive, où vous verrez qu'il apparaît\n",
    "\n",
    "#ATTENTION si vous enregistrez dans le Drive : \n",
    "#il faut déplacer le fichier vers myDrive, faute de quoi il disparaîtra dès votre déconnexion. \n"
   ]
  },
  {
   "cell_type": "markdown",
   "metadata": {},
   "source": [
    "# Premières Visualisations"
   ]
  },
  {
   "cell_type": "markdown",
   "metadata": {},
   "source": [
    "## Diagrammes en barres. Le cas des villes de naissance (supposées propres !). "
   ]
  },
  {
   "cell_type": "markdown",
   "metadata": {},
   "source": [
    "### On commence par faire ses calculs"
   ]
  },
  {
   "cell_type": "code",
   "execution_count": null,
   "metadata": {},
   "outputs": [],
   "source": [
    "VillesNaissance = df['City of birth'].value_counts()\n",
    "#Dénombre le nombre d'OEUVRES pour chaque ville de naissance. \n",
    "#ATTENTION ! ici encore on compte des nbs d'oeuvres. \n"
   ]
  },
  {
   "cell_type": "markdown",
   "metadata": {
    "id": "cVNNWgfr_8N_"
   },
   "source": [
    "Je vais **transformer ma liste de villes (qui est une \"Série\") en dataframe,** pour pouvoir en faire des analyses et visualisations statistiques\n",
    "\n",
    "Je ne sais pas faire? il suffit de chercher ! la recherche de \"python series to frame\" me donne https://pandas.pydata.org/docs/reference/api/pandas.Series.to_frame.html. Plus qu'à m'y référer. \n",
    "si Series est ma série, la formule à appliquer est simple : `Series.to_frame()`\n"
   ]
  },
  {
   "cell_type": "code",
   "execution_count": null,
   "metadata": {
    "scrolled": true
   },
   "outputs": [],
   "source": [
    "VillesNaissance.to_frame()"
   ]
  },
  {
   "cell_type": "code",
   "execution_count": null,
   "metadata": {},
   "outputs": [],
   "source": [
    "# On lui donne un petit nom\n",
    "Citiesofbirth = VillesNaissance.to_frame().reset_index()\n",
    "#.reset_index() me permet d'avoir une colonne dédiée aux villes. "
   ]
  },
  {
   "cell_type": "code",
   "execution_count": null,
   "metadata": {},
   "outputs": [],
   "source": [
    "Citiesofbirth # pour l'afficher"
   ]
  },
  {
   "cell_type": "markdown",
   "metadata": {},
   "source": [
    "Je renomme les colonnes"
   ]
  },
  {
   "cell_type": "code",
   "execution_count": null,
   "metadata": {},
   "outputs": [],
   "source": [
    "Citiesofbirth.columns = ['City of birth', 'Count']"
   ]
  },
  {
   "cell_type": "code",
   "execution_count": null,
   "metadata": {},
   "outputs": [],
   "source": [
    "Citiesofbirth"
   ]
  },
  {
   "cell_type": "markdown",
   "metadata": {},
   "source": [
    "Je vérifie que mes colonnes sont au bon format (.info!)"
   ]
  },
  {
   "cell_type": "code",
   "execution_count": null,
   "metadata": {},
   "outputs": [],
   "source": [
    "Citiesofbirth.info()"
   ]
  },
  {
   "cell_type": "markdown",
   "metadata": {
    "id": "9dY5t1Ur2kUt"
   },
   "source": [
    "### Diagramme en barres \n",
    "-- Attention, vérifiez à bien mettre le titre et la légende qui correspondraient à vos données !\n",
    "\n",
    "Partant du dataframe issu de mes comptages de villes. \n"
   ]
  },
  {
   "cell_type": "code",
   "execution_count": null,
   "metadata": {
    "id": "FSR4H5FoJ1iy"
   },
   "outputs": [],
   "source": [
    "ax = Citiesofbirth.set_index(\"City of birth\").plot(kind = \"bar\", figsize=(14,6))\n",
    "# ce que j'ai fait ? définition du type de diagramme et de sa taille\n",
    "\n",
    "ax.set_xlabel(\"City\", fontsize=16) #titre de l'axe des abscisses\n",
    "\n",
    "ax.set_title(\"Salon des Indépendants, Paris, 1909 : Exhibitor's Cities of Birth\", fontsize=16) \n",
    "#titre du graphique\n",
    "\n",
    "# ax.legend().set_visible(False)  si on veut supprimer la légende\n",
    "#comment ajouter le nom de chaque pays en étiquette : en indiquant justement set_index(\"Country\") : plot va utiliser l'index du df pour labelliser lres différentes barres\n",
    "x_labels = Citiesofbirth[\"City of birth\"].tolist()\n",
    "\n",
    "# changer la taille de police de certains labels\n",
    "for i,tick in enumerate(ax.xaxis.get_major_ticks()):\n",
    "    if i > 10 :\n",
    "        tick.label.set_fontsize(8)"
   ]
  },
  {
   "cell_type": "markdown",
   "metadata": {},
   "source": [
    "**Pas très beau...\n",
    "Soyons donc plus modestes : on refait la même chose pour les pays. \n",
    "En revanche, on fera une cartographie des villes de naissance !**"
   ]
  },
  {
   "cell_type": "code",
   "execution_count": null,
   "metadata": {},
   "outputs": [],
   "source": [
    "# le code qui suit reprendre la même procédure que plus haut, \n",
    "# mais de manière plus ramassée et efficace, sans commentaires. \n",
    "\n",
    "PaysNaissance = df['Country of birth'].value_counts()\n",
    "Countriesofbirth = PaysNaissance.to_frame().reset_index()\n",
    "Countriesofbirth.columns = ['Country of birth', 'Count']\n",
    "Countriesofbirth"
   ]
  },
  {
   "cell_type": "code",
   "execution_count": null,
   "metadata": {},
   "outputs": [],
   "source": [
    "#Et maintenant le diagramme en barres : même code, paramètres différents, titre différent\n",
    "#Mais j'ai craqué, j'ai changé la couleur...\n",
    "\n",
    "ax = Countriesofbirth.set_index(\"Country of birth\").plot(kind = \"bar\", figsize=(14,6), color ='pink')\n",
    "ax.set_xlabel(\"Country\", fontsize=16)\n",
    "ax.set_title(\"Salon des Indépendants, Paris, 1909\\n Exhibitor's Birth Countries\", fontsize=16) \n",
    "x_labels = Countriesofbirth[\"Country of birth\"].tolist()\n",
    "for i,tick in enumerate(ax.xaxis.get_major_ticks()):\n",
    "    if i > 10 :\n",
    "        tick.label.set_fontsize(8)"
   ]
  },
  {
   "cell_type": "markdown",
   "metadata": {},
   "source": [
    "#### Exercice en cours: Représentez en graphe les oeuvres des hommes et celles exposées par des femmes"
   ]
  },
  {
   "cell_type": "markdown",
   "metadata": {},
   "source": [
    "## Camemberts.  Le cas des pays de naissance"
   ]
  },
  {
   "cell_type": "code",
   "execution_count": null,
   "metadata": {},
   "outputs": [],
   "source": [
    "# nota : on a importé matplotlib.pyplot as plt un peu plus haut. \n",
    "\n",
    "plt.figure(figsize = (12, 12))\n",
    "x = Countriesofbirth[\"Count\"]\n",
    "plt.pie(x, \n",
    "        labels = Countriesofbirth[\"Country of birth\"],\n",
    "        explode = None,\n",
    "        autopct = lambda x: str(round(x, 2)) + '%',\n",
    "        pctdistance = 0.7, labeldistance = 1.4,\n",
    "        shadow = True)\n",
    "plt.legend()"
   ]
  },
  {
   "cell_type": "code",
   "execution_count": null,
   "metadata": {},
   "outputs": [],
   "source": [
    "#### Nota : on compte des oeuvres ! pas des artistes !"
   ]
  },
  {
   "cell_type": "markdown",
   "metadata": {
    "id": "nk3GED2epowB"
   },
   "source": [
    "# Exercices"
   ]
  },
  {
   "cell_type": "markdown",
   "metadata": {},
   "source": [
    "## Exercice 1. quels sont les villes de résidence les plus représentées en nombre d'oeuvres?  "
   ]
  },
  {
   "cell_type": "markdown",
   "metadata": {},
   "source": [
    "Reprenez le code donné plus haut pour donner une liste par ordre décroissant des villes de résidence les plus représentées, sachant que les comptages sont les décomptes du nmobre d'ouvres associée à telle ou telle ville de résidence (on compte le nb d'oeuvres, pas le nb d'artistes ; sauf si vous voulez travailler à partir du df \"artists\"!!)\n",
    "Ne regardez pas trop vite la solution... "
   ]
  },
  {
   "cell_type": "markdown",
   "metadata": {},
   "source": [
    "## Exercice 2 : visualisez les pays de résidence des artistes selon le nb d'oeuvres, en un *plus joli* camembert. "
   ]
  },
  {
   "cell_type": "code",
   "execution_count": null,
   "metadata": {},
   "outputs": [],
   "source": [
    "## Solution en fin de notebook !\n",
    "#Ecrivez votre code ici. "
   ]
  },
  {
   "cell_type": "markdown",
   "metadata": {
    "id": "nk3GED2epowB"
   },
   "source": [
    "## Solution Ex. 1 : quels sont les villes de résidence les plus représentées? en nombre d'oeuvres ?  "
   ]
  },
  {
   "cell_type": "code",
   "execution_count": null,
   "metadata": {
    "colab": {
     "base_uri": "https://localhost:8080/"
    },
    "id": "TW6gP0VWrYQ8",
    "outputId": "9c9e5796-81eb-4bf6-9fce-5e2783d6103f"
   },
   "outputs": [],
   "source": [
    "Villesoeuvres = df['City of the artist'].value_counts()\n",
    "Villesoeuvres"
   ]
  },
  {
   "cell_type": "markdown",
   "metadata": {
    "id": "u34zcHbcOoaW"
   },
   "source": [
    "### Exercice 2 : visualisez les villes de résidence des oeuvres en un *plus joli* camembert. "
   ]
  },
  {
   "cell_type": "code",
   "execution_count": null,
   "metadata": {},
   "outputs": [],
   "source": [
    "Villes = df['City of the artist'].value_counts()\n",
    "Cities = Villes.to_frame().reset_index()\n",
    "Cities.columns = ['City of the artist', 'Count']\n",
    "Cities"
   ]
  },
  {
   "cell_type": "markdown",
   "metadata": {},
   "source": [
    "*On va prendre les villes représentées plus de 4 fois, et sommer les autres**\n",
    "\n",
    "* Trouvons-les **à la main**. Avec `Cities.head()`."
   ]
  },
  {
   "cell_type": "code",
   "execution_count": null,
   "metadata": {},
   "outputs": [],
   "source": [
    "Cities.head(50)"
   ]
  },
  {
   "cell_type": "code",
   "execution_count": null,
   "metadata": {},
   "outputs": [],
   "source": [
    "Citiesmin4 = Cities.head(37)\n",
    "Citiesmin4"
   ]
  },
  {
   "cell_type": "markdown",
   "metadata": {},
   "source": [
    "* Méthode plus systématique : les **masques**, avec `df_mask=df['col']==300` et `filtered_df = df[df_mask]`"
   ]
  },
  {
   "cell_type": "code",
   "execution_count": null,
   "metadata": {},
   "outputs": [],
   "source": [
    "masque = Cities['Count']>=3"
   ]
  },
  {
   "cell_type": "code",
   "execution_count": null,
   "metadata": {},
   "outputs": [],
   "source": [
    "Citiesmin3 = Cities[masque]\n",
    "Citiesmin3"
   ]
  },
  {
   "cell_type": "markdown",
   "metadata": {},
   "source": [
    "* Je reprends cette méthode pour aller chercher les villes moins représentées"
   ]
  },
  {
   "cell_type": "code",
   "execution_count": null,
   "metadata": {},
   "outputs": [],
   "source": [
    "masque2 = Cities['Count']<3\n",
    "Citiesmax2 = Cities[masque2]\n",
    "Citiesmax2"
   ]
  },
  {
   "cell_type": "markdown",
   "metadata": {},
   "source": [
    "* Je comptabilise toutes les villes de ce 2e tableau"
   ]
  },
  {
   "cell_type": "code",
   "execution_count": null,
   "metadata": {},
   "outputs": [],
   "source": [
    "Total = Citiesmax2['Count'].sum()\n",
    "Total"
   ]
  },
  {
   "cell_type": "markdown",
   "metadata": {},
   "source": [
    "* J'ajoute à mon tableau des min 4 une ligne avec les villes représentées moins de 4 fois, et en fais un tableau déf \n",
    "Pour cela j'ai bêtement utilisé les conseils de https://moonbooks.org/Articles/Comment-ajouter-une-ligne-a-une-dataframe-avec-pandas-en-python-/. "
   ]
  },
  {
   "cell_type": "code",
   "execution_count": null,
   "metadata": {},
   "outputs": [],
   "source": [
    "df_new_line = pd.DataFrame([['2 and less occurrences', Total]], columns=['City of the artist','Count'] )\n",
    "df_new_line"
   ]
  },
  {
   "cell_type": "code",
   "execution_count": null,
   "metadata": {},
   "outputs": [],
   "source": [
    "Citiesdef = pd.concat([Citiesmin3,df_new_line], ignore_index=True)"
   ]
  },
  {
   "cell_type": "code",
   "execution_count": null,
   "metadata": {},
   "outputs": [],
   "source": [
    "Citiesdef"
   ]
  },
  {
   "cell_type": "code",
   "execution_count": null,
   "metadata": {},
   "outputs": [],
   "source": [
    "# Je réorganise ce tableau par ordre décroissant de \"count\"\n",
    "# df.sort_values(by = 'C') : renvoie un dataframe avec les \n",
    "Citiesdef = Citiesdef.sort_values(by = 'Count', ascending=False)\n",
    "Citiesdef"
   ]
  },
  {
   "cell_type": "code",
   "execution_count": null,
   "metadata": {},
   "outputs": [],
   "source": [
    "number = Citiesdef['Count']\n",
    "city = Citiesdef['City of the artist']\n",
    "exp = (len(Citiesdef)-10)*[0.03]+[0.2, 0.3, 0.4, 0.5, 1, 1.5, 2, 2.5, 3, 3.5]\n",
    "#exp pour explode, qui va nous permettre d'indiquer de quelle fraction de rayon chaque part doit être éloignée du centre.\n",
    "#notez que nous avons défini autant de fractions de rayon que d'items à représenter; \n",
    "#mais que seules les 10 dernières s'éloignent du centre ."
   ]
  },
  {
   "cell_type": "code",
   "execution_count": null,
   "metadata": {},
   "outputs": [],
   "source": [
    "# Créons une palette d'autant de couleurs que de pays. "
   ]
  },
  {
   "cell_type": "code",
   "execution_count": null,
   "metadata": {},
   "outputs": [],
   "source": [
    "#librairie de jolies palettes\n",
    "import seaborn as sns\n"
   ]
  },
  {
   "cell_type": "code",
   "execution_count": null,
   "metadata": {},
   "outputs": [],
   "source": [
    "sns.color_palette(\"pastel\")\n",
    "# voir https://seaborn.pydata.org/generated/seaborn.color_palette.html"
   ]
  },
  {
   "cell_type": "code",
   "execution_count": null,
   "metadata": {},
   "outputs": [],
   "source": [
    "colors = sns.color_palette('Set2')[0:len(Citiesdef)-1] # j'ai décidé de changer de palette, avec Set2\n",
    "#définit ma palette, autant de couleurs que d'items à représenter\n",
    "colors"
   ]
  },
  {
   "cell_type": "code",
   "execution_count": null,
   "metadata": {},
   "outputs": [],
   "source": [
    "\n",
    "#Définition d'une fonction permettant d'afficher les valeurs absolues ainsi que les pourcentages pour chaque pays \n",
    "def make_autopct(number):\n",
    "    def my_autopct(pct):\n",
    "        total = sum(number)\n",
    "        val = int(round(pct*total/100.0))\n",
    "        return '{v:d} ({p:.1f}%)'.format(v = val, p = pct)\n",
    "    return my_autopct\n",
    "\n",
    "plt.pie(number, labels = city, explode = exp, autopct = make_autopct(number), colors = colors,\n",
    "        pctdistance = 0.85, radius = 10, textprops = {'fontsize':22})\n",
    "plt.title(\"Salon des Indépendants, Paris, 1909. Artworks according to Exhibitor's Residencies\", fontsize = 50, fontweight = 'bold', y = 5.5, x = 1.5)\n",
    "\n",
    "#Sauvegarder la figure \n",
    "plt.savefig('piechart.jpg', dpi = 300, bbox_inches = 'tight', pad_inches = 2)"
   ]
  },
  {
   "cell_type": "markdown",
   "metadata": {},
   "source": [
    "# Pour aller plus loin "
   ]
  },
  {
   "cell_type": "markdown",
   "metadata": {},
   "source": [
    "- Un site très progressif : https://melaniewalsh.github.io/Intro-Cultural-Analytics/03-Data-Analysis/01-Pandas-Basics-Part1.html\n",
    "- Les cours de Python sur w3schools\n",
    "- Python pour les SHS (un livre) : https://pyshs.fr/\n"
   ]
  }
 ],
 "metadata": {
  "colab": {
   "name": "2_Premiere_carte_Donnees_Visual_Contagions.ipynb",
   "provenance": [],
   "toc_visible": true
  },
  "kernelspec": {
   "display_name": "Python 3 (ipykernel)",
   "language": "python",
   "name": "python3"
  },
  "language_info": {
   "codemirror_mode": {
    "name": "ipython",
    "version": 3
   },
   "file_extension": ".py",
   "mimetype": "text/x-python",
   "name": "python",
   "nbconvert_exporter": "python",
   "pygments_lexer": "ipython3",
   "version": "3.10.6"
  },
  "pycharm": {
   "stem_cell": {
    "cell_type": "raw",
    "metadata": {
     "collapsed": false
    },
    "source": [
     "#Ce notebook vise à réaliser une visualisation cartographique simple des données rassemblées pour le projet Visual Contagions. \n",
     "\n",
     "#On commence par importer les librairies nécessaires pour cette cartographie.\n",
     "#Tutoriels utilisés: http://www.xavierdupre.fr/app/ensae_teaching_cs/helpsphinx/notebooks/td1a_cenonce_session_12_carte.html#td1acenoncesession12carterst\n",
     "#et https://colab.research.google.com/drive/1We-LMiSeucESsiB1tmvL9nZrntyWsri-#scrollTo=rNS3VAuh5qr4 "
    ]
   }
  },
  "toc": {
   "base_numbering": 1,
   "nav_menu": {
    "height": "276px",
    "width": "419.9px"
   },
   "number_sections": true,
   "sideBar": true,
   "skip_h1_title": false,
   "title_cell": "Table of Contents",
   "title_sidebar": "Contents",
   "toc_cell": false,
   "toc_position": {},
   "toc_section_display": true,
   "toc_window_display": false
  }
 },
 "nbformat": 4,
 "nbformat_minor": 4
}
